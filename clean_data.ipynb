{
 "cells": [
  {
   "cell_type": "markdown",
   "metadata": {},
   "source": [
    "### This notebook is for cleaning twitter data"
   ]
  },
  {
   "cell_type": "markdown",
   "metadata": {},
   "source": [
    "Honestly, I couldn't find a consistent structure to each tweet json. All of them had a 'text' field, but that didn't get all of the text. Usually there would be a field called 'full_text' that would have the full tweet, but this would be in different places.\n",
    "\n",
    "So I created a function that accepts a list of keys. The function checks each key in the json file. If the key in the json file is in the list of keys we passed in, it will return that key-value pair.\n",
    "\n",
    "At the end of the notebook is some scratch work"
   ]
  },
  {
   "cell_type": "code",
   "execution_count": 1,
   "metadata": {},
   "outputs": [],
   "source": [
    "import json\n",
    "import copy\n",
    "import pprint\n",
    "pp = pprint.PrettyPrinter(indent=2)"
   ]
  },
  {
   "cell_type": "code",
   "execution_count": 2,
   "metadata": {},
   "outputs": [],
   "source": [
    "def find_key_in_dict(keys_i_want, dictionary):\n",
    "    keys_i_want_new = copy.deepcopy(keys_i_want)\n",
    "\n",
    "    def iterate_through_dict(keys_i_want, dic, output):\n",
    "        for i in dic:\n",
    "            if i in keys_i_want:\n",
    "                output[i] = dic[i]\n",
    "                keys_i_want.remove(i)\n",
    "            if type(dic[i]) is dict:\n",
    "                iterate_through_dict(keys_i_want, dic[i], output)        \n",
    "\n",
    "    d = dict()\n",
    "    iterate_through_dict(keys_i_want_new, dictionary, d)            \n",
    "    return d"
   ]
  },
  {
   "cell_type": "markdown",
   "metadata": {},
   "source": [
    "### Example"
   ]
  },
  {
   "cell_type": "code",
   "execution_count": 3,
   "metadata": {},
   "outputs": [],
   "source": [
    "true = True\n",
    "false = False\n",
    "null = None"
   ]
  },
  {
   "cell_type": "code",
   "execution_count": 4,
   "metadata": {},
   "outputs": [],
   "source": [
    "j = {\"created_at\":\"Sun Oct 14 23:47:33 +0000 2018\",\"id\":1051620558327242753,\"id_str\":\"1051620558327242753\",\"text\":\"RT @MSNBC: \\\"Ted Cruz has insisted that we repeal every single word of the Affordable Care Act, including protections for pre-existing condi\\u2026\",\"source\":\"\\u003ca href=\\\"http:\\/\\/twitter.com\\/download\\/iphone\\\" rel=\\\"nofollow\\\"\\u003eTwitter for iPhone\\u003c\\/a\\u003e\",\"truncated\":false,\"in_reply_to_status_id\":null,\"in_reply_to_status_id_str\":null,\"in_reply_to_user_id\":null,\"in_reply_to_user_id_str\":null,\"in_reply_to_screen_name\":null,\"user\":{\"id\":1117193377,\"id_str\":\"1117193377\",\"name\":\"Eileen\",\"screen_name\":\"ThoseWhoListen\",\"location\":\"Florida, USA\",\"url\":null,\"description\":\"#Resist\\u270c\\ud83c\\udffb\\ud83e\\udd1f\\ud83c\\udffb Love Real Estate & Interior Design, Animal Rescue & The Arts\",\"translator_type\":\"none\",\"protected\":false,\"verified\":false,\"followers_count\":242,\"friends_count\":523,\"listed_count\":0,\"favourites_count\":5184,\"statuses_count\":6530,\"created_at\":\"Thu Jan 24 16:26:57 +0000 2013\",\"utc_offset\":null,\"time_zone\":null,\"geo_enabled\":true,\"lang\":\"en\",\"contributors_enabled\":false,\"is_translator\":false,\"profile_background_color\":\"C0DEED\",\"profile_background_image_url\":\"http:\\/\\/abs.twimg.com\\/images\\/themes\\/theme1\\/bg.png\",\"profile_background_image_url_https\":\"https:\\/\\/abs.twimg.com\\/images\\/themes\\/theme1\\/bg.png\",\"profile_background_tile\":false,\"profile_link_color\":\"1DA1F2\",\"profile_sidebar_border_color\":\"C0DEED\",\"profile_sidebar_fill_color\":\"DDEEF6\",\"profile_text_color\":\"333333\",\"profile_use_background_image\":true,\"profile_image_url\":\"http:\\/\\/pbs.twimg.com\\/profile_images\\/939187106106232832\\/7uHw0dgp_normal.jpg\",\"profile_image_url_https\":\"https:\\/\\/pbs.twimg.com\\/profile_images\\/939187106106232832\\/7uHw0dgp_normal.jpg\",\"profile_banner_url\":\"https:\\/\\/pbs.twimg.com\\/profile_banners\\/1117193377\\/1499266218\",\"default_profile\":true,\"default_profile_image\":false,\"following\":null,\"follow_request_sent\":null,\"notifications\":null},\"geo\":null,\"coordinates\":null,\"place\":null,\"contributors\":null,\"retweeted_status\":{\"created_at\":\"Sun Oct 14 21:00:17 +0000 2018\",\"id\":1051578461536571392,\"id_str\":\"1051578461536571392\",\"text\":\"\\\"Ted Cruz has insisted that we repeal every single word of the Affordable Care Act, including protections for pre-e\\u2026 https:\\/\\/t.co\\/o3LFI3S0nl\",\"source\":\"\\u003ca href=\\\"http:\\/\\/www.socialflow.com\\\" rel=\\\"nofollow\\\"\\u003eSocialFlow\\u003c\\/a\\u003e\",\"truncated\":true,\"in_reply_to_status_id\":null,\"in_reply_to_status_id_str\":null,\"in_reply_to_user_id\":null,\"in_reply_to_user_id_str\":null,\"in_reply_to_screen_name\":null,\"user\":{\"id\":2836421,\"id_str\":\"2836421\",\"name\":\"MSNBC\",\"screen_name\":\"MSNBC\",\"location\":null,\"url\":\"http:\\/\\/msnbc.com\",\"description\":\"The place for in-depth analysis, political commentary and informed perspectives.\",\"translator_type\":\"regular\",\"protected\":false,\"verified\":true,\"followers_count\":2216471,\"friends_count\":581,\"listed_count\":21611,\"favourites_count\":647,\"statuses_count\":145565,\"created_at\":\"Thu Mar 29 13:15:41 +0000 2007\",\"utc_offset\":null,\"time_zone\":null,\"geo_enabled\":false,\"lang\":\"en\",\"contributors_enabled\":false,\"is_translator\":false,\"profile_background_color\":\"000000\",\"profile_background_image_url\":\"http:\\/\\/abs.twimg.com\\/images\\/themes\\/theme1\\/bg.png\",\"profile_background_image_url_https\":\"https:\\/\\/abs.twimg.com\\/images\\/themes\\/theme1\\/bg.png\",\"profile_background_tile\":false,\"profile_link_color\":\"0CB1C7\",\"profile_sidebar_border_color\":\"FFFFFF\",\"profile_sidebar_fill_color\":\"EEEEEE\",\"profile_text_color\":\"000000\",\"profile_use_background_image\":true,\"profile_image_url\":\"http:\\/\\/pbs.twimg.com\\/profile_images\\/988382060443250689\\/DijesdNB_normal.jpg\",\"profile_image_url_https\":\"https:\\/\\/pbs.twimg.com\\/profile_images\\/988382060443250689\\/DijesdNB_normal.jpg\",\"profile_banner_url\":\"https:\\/\\/pbs.twimg.com\\/profile_banners\\/2836421\\/1538663631\",\"default_profile\":false,\"default_profile_image\":false,\"following\":null,\"follow_request_sent\":null,\"notifications\":null},\"geo\":null,\"coordinates\":null,\"place\":null,\"contributors\":null,\"is_quote_status\":false,\"extended_tweet\":{\"full_text\":\"\\\"Ted Cruz has insisted that we repeal every single word of the Affordable Care Act, including protections for pre-existing conditions. I want to expand medicaid.\\\"\\n\\n\\u2014 Beto O'Rourke talks differences between himself and Ted Cruz in the Texas Senate race. https:\\/\\/t.co\\/Ko7Y8ttM2I\",\"display_text_range\":[0,276],\"entities\":{\"hashtags\":[],\"urls\":[{\"url\":\"https:\\/\\/t.co\\/Ko7Y8ttM2I\",\"expanded_url\":\"https:\\/\\/on.msnbc.com\\/2CLm0L5\",\"display_url\":\"on.msnbc.com\\/2CLm0L5\",\"indices\":[253,276]}],\"user_mentions\":[],\"symbols\":[]}},\"quote_count\":17,\"reply_count\":91,\"retweet_count\":465,\"favorite_count\":902,\"entities\":{\"hashtags\":[],\"urls\":[{\"url\":\"https:\\/\\/t.co\\/o3LFI3S0nl\",\"expanded_url\":\"https:\\/\\/twitter.com\\/i\\/web\\/status\\/1051578461536571392\",\"display_url\":\"twitter.com\\/i\\/web\\/status\\/1\\u2026\",\"indices\":[117,140]}],\"user_mentions\":[],\"symbols\":[]},\"favorited\":false,\"retweeted\":false,\"possibly_sensitive\":false,\"filter_level\":\"low\",\"lang\":\"en\"},\"is_quote_status\":false,\"quote_count\":0,\"reply_count\":0,\"retweet_count\":0,\"favorite_count\":0,\"entities\":{\"hashtags\":[],\"urls\":[],\"user_mentions\":[{\"screen_name\":\"MSNBC\",\"name\":\"MSNBC\",\"id\":2836421,\"id_str\":\"2836421\",\"indices\":[3,9]}],\"symbols\":[]},\"favorited\":false,\"retweeted\":false,\"filter_level\":\"low\",\"lang\":\"en\",\"timestamp_ms\":\"1539560853927\"}"
   ]
  },
  {
   "cell_type": "code",
   "execution_count": 5,
   "metadata": {},
   "outputs": [],
   "source": [
    "k = ['full_text', 'location', 'text']"
   ]
  },
  {
   "cell_type": "code",
   "execution_count": 9,
   "metadata": {},
   "outputs": [
    {
     "name": "stdout",
     "output_type": "stream",
     "text": [
      "{ 'full_text': '\"Ted Cruz has insisted that we repeal every single word of the '\n",
      "               'Affordable Care Act, including protections for pre-existing '\n",
      "               'conditions. I want to expand medicaid.\"\\n'\n",
      "               '\\n'\n",
      "               \"— Beto O'Rourke talks differences between himself and Ted Cruz \"\n",
      "               'in the Texas Senate race. https:\\\\/\\\\/t.co\\\\/Ko7Y8ttM2I',\n",
      "  'location': 'Florida, USA',\n",
      "  'text': 'RT @MSNBC: \"Ted Cruz has insisted that we repeal every single word '\n",
      "          'of the Affordable Care Act, including protections for pre-existing '\n",
      "          'condi…'}\n"
     ]
    }
   ],
   "source": [
    "pp.pprint(find_key_in_dict(k, j))"
   ]
  },
  {
   "cell_type": "markdown",
   "metadata": {},
   "source": [
    "### Test"
   ]
  },
  {
   "cell_type": "code",
   "execution_count": 10,
   "metadata": {},
   "outputs": [],
   "source": [
    "with open('Oct14thTweetMine.json','r') as f:\n",
    "#     print(sum([1 for i in f]))\n",
    "    count = 1\n",
    "    tweets = dict()\n",
    "    for line in f:\n",
    "        tweet = json.loads(line)\n",
    "        if count < 40:\n",
    "            tweet_specifics = find_key_in_dict(['full_text', 'location', 'text'], tweet)\n",
    "            d = {}\n",
    "            d['location'] = tweet_specifics['location']\n",
    "            if 'full_text' in tweet_specifics.keys():\n",
    "                d['text'] = tweet_specifics['full_text']\n",
    "            else:\n",
    "                d['text'] = tweet_specifics['text']\n",
    "            tweets[count] = d\n",
    "        count += 1"
   ]
  },
  {
   "cell_type": "code",
   "execution_count": 11,
   "metadata": {},
   "outputs": [
    {
     "data": {
      "text/plain": [
       "{1: {'location': 'Florida, USA',\n",
       "  'text': '\"Ted Cruz has insisted that we repeal every single word of the Affordable Care Act, including protections for pre-existing conditions. I want to expand medicaid.\"\\n\\n— Beto O\\'Rourke talks differences between himself and Ted Cruz in the Texas Senate race. https://t.co/Ko7Y8ttM2I'},\n",
       " 2: {'location': 'New York, N.Y.',\n",
       "  'text': 'What the hell is wrong with Texas? Republicans have one of the smarmiest men ever as their candidate for Senate, Ted Cruz. Democrats have one of the best candidates in a lifetime, Beto O’Rourke. And yet Cruz is up by eight points.\\n#Beto4Texas'},\n",
       " 3: {'location': 'El Paso, TX',\n",
       "  'text': '🛑Beto skates across the Stage on his skateboard. Hoping to show his “Cool Guy” side.  Cruz still leads in polling.Dont become complacent #Texas He’s raised $36 million to win. @realDonaldTrump https://t.co/dzlvM7GpIK🛑 https://t.co/MQQhmi076T'},\n",
       " 4: {'location': None,\n",
       "  'text': '\"Ted Cruz has insisted that we repeal every single word of the Affordable Care Act, including protections for pre-existing conditions. I want to expand medicaid.\"\\n\\n— Beto O\\'Rourke talks differences between himself and Ted Cruz in the Texas Senate race. https://t.co/Ko7Y8ttM2I'},\n",
       " 5: {'location': 'Little Blue Speck of Dust',\n",
       "  'text': 'What the hell is wrong with Texas? Republicans have one of the smarmiest men ever as their candidate for Senate, Ted Cruz. Democrats have one of the best candidates in a lifetime, Beto O’Rourke. And yet Cruz is up by eight points.\\n#Beto4Texas'},\n",
       " 6: {'location': None,\n",
       "  'text': '\"Ted Cruz has insisted that we repeal every single word of the Affordable Care Act, including protections for pre-existing conditions. I want to expand medicaid.\"\\n\\n— Beto O\\'Rourke talks differences between himself and Ted Cruz in the Texas Senate race. https://t.co/Ko7Y8ttM2I'},\n",
       " 7: {'location': None,\n",
       "  'text': 'What the hell is wrong with Texas? Republicans have one of the smarmiest men ever as their candidate for Senate, Ted Cruz. Democrats have one of the best candidates in a lifetime, Beto O’Rourke. And yet Cruz is up by eight points.\\n#Beto4Texas'},\n",
       " 8: {'location': 'standoneverycorner.com/',\n",
       "  'text': \"TEXAS HISPANICS:  How can Bet O'Rourge be behind in the polls in Texas with 50% of the population Hispanic?  Aren't Hispanic upset with republicans about putting kids in cages, DACA? https://t.co/y1Sjs7des6\"},\n",
       " 9: {'location': None,\n",
       "  'text': 'What the hell is wrong with Texas? Republicans have one of the smarmiest men ever as their candidate for Senate, Ted Cruz. Democrats have one of the best candidates in a lifetime, Beto O’Rourke. And yet Cruz is up by eight points.\\n#Beto4Texas'},\n",
       " 10: {'location': 'Hugo, OK',\n",
       "  'text': '🛑Beto skates across the Stage on his skateboard. Hoping to show his “Cool Guy” side.  Cruz still leads in polling.Dont become complacent #Texas He’s raised $36 million to win. @realDonaldTrump https://t.co/dzlvM7GpIK🛑 https://t.co/MQQhmi076T'},\n",
       " 11: {'location': None,\n",
       "  'text': '🛑Beto skates across the Stage on his skateboard. Hoping to show his “Cool Guy” side.  Cruz still leads in polling.Dont become complacent #Texas He’s raised $36 million to win. @realDonaldTrump https://t.co/dzlvM7GpIK🛑 https://t.co/MQQhmi076T'},\n",
       " 12: {'location': 'Florida USA',\n",
       "  'text': \"BETO O'ROURKE'S HAS BEEN A GRASSROOT CANDIDATE.\\n\\nTRAVELING AND VISITING OVER 200 COUNTIES LISTENING TO THE NEEDS  OF HIS SOON-TO-BE CONSTITUENTS.\\n\\nPLEASE TEXAS VOTE FOR BETO O'ROURKE FOR SENATE.\\n\\nVOTE B.LUE\\nVOTE E.ARLY\\nVOTE T.EXAS\\nVOTE O.ROUKE https://t.co/8Yb6L2immD\"},\n",
       " 13: {'location': None,\n",
       "  'text': \"@LoriG @hypercubexl @Nicole_Cliffe I experimentally tried to look at results of a poll for the Texas Senate race coming in in real time the other day and got too anxious before they'd talked to 100 people.\"},\n",
       " 14: {'location': None,\n",
       "  'text': '🛑Beto skates across the Stage on his skateboard. Hoping to show his “Cool Guy” side.  Cruz still leads in polling.Dont become complacent #Texas He’s raised $36 million to win. @realDonaldTrump https://t.co/dzlvM7GpIK🛑 https://t.co/MQQhmi076T'},\n",
       " 15: {'location': 'Miami Beach, FL',\n",
       "  'text': 'RT @thomaskaine5: Poll: Cruz Leads Beto O’Rourke among Hispanic Voters in Texas Senate Race https://t.co/4dGkFlLyBG'},\n",
       " 16: {'location': 'Southern California',\n",
       "  'text': '\"Ted Cruz has insisted that we repeal every single word of the Affordable Care Act, including protections for pre-existing conditions. I want to expand medicaid.\"\\n\\n— Beto O\\'Rourke talks differences between himself and Ted Cruz in the Texas Senate race. https://t.co/Ko7Y8ttM2I'},\n",
       " 17: {'location': 'California, USA',\n",
       "  'text': 'What the hell is wrong with Texas? Republicans have one of the smarmiest men ever as their candidate for Senate, Ted Cruz. Democrats have one of the best candidates in a lifetime, Beto O’Rourke. And yet Cruz is up by eight points.\\n#Beto4Texas'},\n",
       " 18: {'location': None, 'text': 'How?'},\n",
       " 19: {'location': None,\n",
       "  'text': 'What the hell is wrong with Texas? Republicans have one of the smarmiest men ever as their candidate for Senate, Ted Cruz. Democrats have one of the best candidates in a lifetime, Beto O’Rourke. And yet Cruz is up by eight points.\\n#Beto4Texas'},\n",
       " 20: {'location': None,\n",
       "  'text': 'What the hell is wrong with Texas? Republicans have one of the smarmiest men ever as their candidate for Senate, Ted Cruz. Democrats have one of the best candidates in a lifetime, Beto O’Rourke. And yet Cruz is up by eight points.\\n#Beto4Texas'},\n",
       " 21: {'location': 'North Carolina, USA',\n",
       "  'text': '🛑Beto skates across the Stage on his skateboard. Hoping to show his “Cool Guy” side.  Cruz still leads in polling.Dont become complacent #Texas He’s raised $36 million to win. @realDonaldTrump https://t.co/dzlvM7GpIK🛑 https://t.co/MQQhmi076T'},\n",
       " 22: {'location': None,\n",
       "  'text': 'FLIP ALERT: In Texas Senate District 19, Republican Pete Flores has won in a surprising upset. This is the 3rd legislative gain made by the GOP in elections in 2018'},\n",
       " 23: {'location': None,\n",
       "  'text': '🛑Beto skates across the Stage on his skateboard. Hoping to show his “Cool Guy” side.  Cruz still leads in polling.Dont become complacent #Texas He’s raised $36 million to win. @realDonaldTrump https://t.co/dzlvM7GpIK🛑 https://t.co/MQQhmi076T'},\n",
       " 24: {'location': 'Bigotston,  United States',\n",
       "  'text': 'RT @thomaskaine5: Poll: Cruz Leads Beto O’Rourke among Hispanic Voters in Texas Senate Race https://t.co/4dGkFlLyBG'},\n",
       " 25: {'location': None, 'text': '#BetoORourke https://t.co/rLyCPCgtr7'},\n",
       " 26: {'location': ' #DemCrowRules #WalkAway&MAGA',\n",
       "  'text': 'RT @julia_nista: Why is Beto running for Senate in every state except Texas? https://t.co/TzkiSp0r4O'},\n",
       " 27: {'location': 'Ohio, USA',\n",
       "  'text': 'What the hell is wrong with Texas? Republicans have one of the smarmiest men ever as their candidate for Senate, Ted Cruz. Democrats have one of the best candidates in a lifetime, Beto O’Rourke. And yet Cruz is up by eight points.\\n#Beto4Texas'},\n",
       " 28: {'location': None,\n",
       "  'text': '\"Ted Cruz has insisted that we repeal every single word of the Affordable Care Act, including protections for pre-existing conditions. I want to expand medicaid.\"\\n\\n— Beto O\\'Rourke talks differences between himself and Ted Cruz in the Texas Senate race. https://t.co/Ko7Y8ttM2I'},\n",
       " 29: {'location': None,\n",
       "  'text': '\"Ted Cruz has insisted that we repeal every single word of the Affordable Care Act, including protections for pre-existing conditions. I want to expand medicaid.\"\\n\\n— Beto O\\'Rourke talks differences between himself and Ted Cruz in the Texas Senate race. https://t.co/Ko7Y8ttM2I'},\n",
       " 30: {'location': None,\n",
       "  'text': 'What the hell is wrong with Texas? Republicans have one of the smarmiest men ever as their candidate for Senate, Ted Cruz. Democrats have one of the best candidates in a lifetime, Beto O’Rourke. And yet Cruz is up by eight points.\\n#Beto4Texas'},\n",
       " 31: {'location': None,\n",
       "  'text': 'What the hell is wrong with Texas? Republicans have one of the smarmiest men ever as their candidate for Senate, Ted Cruz. Democrats have one of the best candidates in a lifetime, Beto O’Rourke. And yet Cruz is up by eight points.\\n#Beto4Texas'},\n",
       " 32: {'location': None,\n",
       "  'text': 'Lynching is a crime of violence motivated by racism.  And it isn’t a federal crime. My bill with Senators Booker and Scott will change that. \\nhttps://t.co/zpTeqzKPmt'},\n",
       " 33: {'location': None,\n",
       "  'text': '\"Ted Cruz has insisted that we repeal every single word of the Affordable Care Act, including protections for pre-existing conditions. I want to expand medicaid.\"\\n\\n— Beto O\\'Rourke talks differences between himself and Ted Cruz in the Texas Senate race. https://t.co/Ko7Y8ttM2I'},\n",
       " 34: {'location': 'Mount Olympus, Mars',\n",
       "  'text': 'RT @thomaskaine5: Poll: Cruz Leads Beto O’Rourke among Hispanic Voters in Texas Senate Race https://t.co/4dGkFlLyBG'},\n",
       " 35: {'location': \"Houston, TX But home's NYC!\",\n",
       "  'text': 'What the hell is wrong with Texas? Republicans have one of the smarmiest men ever as their candidate for Senate, Ted Cruz. Democrats have one of the best candidates in a lifetime, Beto O’Rourke. And yet Cruz is up by eight points.\\n#Beto4Texas'},\n",
       " 36: {'location': None,\n",
       "  'text': '\"Ted Cruz has insisted that we repeal every single word of the Affordable Care Act, including protections for pre-existing conditions. I want to expand medicaid.\"\\n\\n— Beto O\\'Rourke talks differences between himself and Ted Cruz in the Texas Senate race. https://t.co/Ko7Y8ttM2I'},\n",
       " 37: {'location': 'Connecticut, USA',\n",
       "  'text': 'What the hell is wrong with Texas? Republicans have one of the smarmiest men ever as their candidate for Senate, Ted Cruz. Democrats have one of the best candidates in a lifetime, Beto O’Rourke. And yet Cruz is up by eight points.\\n#Beto4Texas'},\n",
       " 38: {'location': 'Texas, USA',\n",
       "  'text': '🛑Beto skates across the Stage on his skateboard. Hoping to show his “Cool Guy” side.  Cruz still leads in polling.Dont become complacent #Texas He’s raised $36 million to win. @realDonaldTrump https://t.co/dzlvM7GpIK🛑 https://t.co/MQQhmi076T'},\n",
       " 39: {'location': None,\n",
       "  'text': 'What the hell is wrong with Texas? Republicans have one of the smarmiest men ever as their candidate for Senate, Ted Cruz. Democrats have one of the best candidates in a lifetime, Beto O’Rourke. And yet Cruz is up by eight points.\\n#Beto4Texas'}}"
      ]
     },
     "execution_count": 11,
     "metadata": {},
     "output_type": "execute_result"
    }
   ],
   "source": [
    "tweets"
   ]
  },
  {
   "cell_type": "code",
   "execution_count": null,
   "metadata": {},
   "outputs": [],
   "source": []
  },
  {
   "cell_type": "code",
   "execution_count": null,
   "metadata": {},
   "outputs": [],
   "source": []
  },
  {
   "cell_type": "code",
   "execution_count": null,
   "metadata": {},
   "outputs": [],
   "source": []
  },
  {
   "cell_type": "code",
   "execution_count": null,
   "metadata": {},
   "outputs": [],
   "source": []
  },
  {
   "cell_type": "code",
   "execution_count": null,
   "metadata": {},
   "outputs": [],
   "source": []
  },
  {
   "cell_type": "code",
   "execution_count": null,
   "metadata": {},
   "outputs": [],
   "source": []
  },
  {
   "cell_type": "markdown",
   "metadata": {},
   "source": [
    "### Scratch work"
   ]
  },
  {
   "cell_type": "code",
   "execution_count": 35,
   "metadata": {
    "scrolled": true
   },
   "outputs": [],
   "source": [
    "with open('Oct15thTweetMine.json','r') as f:\n",
    "#     print(sum([1 for i in f]))\n",
    "    count = 1\n",
    "    for line in f:\n",
    "        tweet = json.loads(line)\n",
    "        if count < 800:\n",
    "            s = str(count) + \") \"\n",
    "            if '\\u2026' not in tweet['text']:\n",
    "                s+=tweet['text']\n",
    "            elif 'retweeted_status' in tweet.keys():\n",
    "                if 'extended_tweet' in tweet['retweeted_status'].keys():\n",
    "                    s+=tweet['retweeted_status']['extended_tweet']['full_text']\n",
    "                else:\n",
    "                    s+=tweet['retweeted_status']['text']\n",
    "            else:\n",
    "                s+=tweet['extended_tweet']['full_text']\n",
    "#             print(s)\n",
    "#             print()\n",
    "        count+=1"
   ]
  },
  {
   "cell_type": "code",
   "execution_count": 4,
   "metadata": {},
   "outputs": [
    {
     "name": "stdout",
     "output_type": "stream",
     "text": [
      "RT @MSNBC: \"Ted Cruz has insisted that we repeal every single word of the Affordable Care Act, including protections for pre-existing condi…\n",
      "\n",
      "\n",
      "RT @atDavidHoffman: What the hell is wrong with Texas? Republicans have one of the smarmiest men ever as their candidate for Senate, Ted Cr…\n",
      "\n",
      "\n",
      "RT @crimsonfaith88: 🛑Beto skates across the Stage on his skateboard. Hoping to show his “Cool Guy” side.  Cruz still leads in polling.Dont…\n",
      "\n",
      "\n",
      "RT @MSNBC: \"Ted Cruz has insisted that we repeal every single word of the Affordable Care Act, including protections for pre-existing condi…\n",
      "\n",
      "\n",
      "RT @atDavidHoffman: What the hell is wrong with Texas? Republicans have one of the smarmiest men ever as their candidate for Senate, Ted Cr…\n",
      "\n",
      "\n",
      "TEXANS...You Buck Up and Go Big Big Big w \n",
      "#VoteBETOforSenate #VoteBlue\n",
      "\n",
      "Regain your “Everything’s Big in Texas”...… https://t.co/xASfh3hACN\n",
      "\n",
      "\n",
      "RT @atDavidHoffman: What the hell is wrong with Texas? Republicans have one of the smarmiest men ever as their candidate for Senate, Ted Cr…\n",
      "\n",
      "\n",
      "RT @thomaskaine5: TEXAS HISPANICS:  How can Bet O'Rourge be behind in the polls in Texas with 50% of the population Hispanic?  Aren't Hispa…\n",
      "\n",
      "\n",
      "RT @atDavidHoffman: What the hell is wrong with Texas? Republicans have one of the smarmiest men ever as their candidate for Senate, Ted Cr…\n",
      "\n",
      "\n",
      "RT @crimsonfaith88: 🛑Beto skates across the Stage on his skateboard. Hoping to show his “Cool Guy” side.  Cruz still leads in polling.Dont…\n",
      "\n",
      "\n",
      "RT @crimsonfaith88: 🛑Beto skates across the Stage on his skateboard. Hoping to show his “Cool Guy” side.  Cruz still leads in polling.Dont…\n",
      "\n",
      "\n",
      "RT @DBlack_Mountain: BETO O'ROURKE'S HAS BEEN A GRASSROOT CANDIDATE.\n",
      "\n",
      "TRAVELING AND VISITING OVER 200 COUNTIES LISTENING TO THE NEEDS  OF H…\n",
      "\n",
      "\n",
      "@LoriG @hypercubexl @Nicole_Cliffe I experimentally tried to look at results of a poll for the Texas Senate race co… https://t.co/ghTfLMyEX3\n",
      "\n",
      "\n",
      "RT @crimsonfaith88: 🛑Beto skates across the Stage on his skateboard. Hoping to show his “Cool Guy” side.  Cruz still leads in polling.Dont…\n",
      "\n",
      "\n",
      "RT @thomaskaine5: Poll: Cruz Leads Beto O’Rourke among Hispanic Voters in Texas Senate Race https://t.co/4dGkFlLyBG\n",
      "\n",
      "\n",
      "RT @MSNBC: \"Ted Cruz has insisted that we repeal every single word of the Affordable Care Act, including protections for pre-existing condi…\n",
      "\n",
      "\n",
      "VOTE BETO!!🌊🌊\n",
      "\n",
      "\n",
      "How?\n",
      "\n",
      "\n",
      "RT @atDavidHoffman: What the hell is wrong with Texas? Republicans have one of the smarmiest men ever as their candidate for Senate, Ted Cr…\n",
      "\n",
      "\n",
      "RT @atDavidHoffman: What the hell is wrong with Texas? Republicans have one of the smarmiest men ever as their candidate for Senate, Ted Cr…\n",
      "\n",
      "\n",
      "RT @crimsonfaith88: 🛑Beto skates across the Stage on his skateboard. Hoping to show his “Cool Guy” side.  Cruz still leads in polling.Dont…\n",
      "\n",
      "\n",
      "RT @jennycohn1: Election integrity alert! 350 precincts voted in the Texas Dist. 19  election, which surprisingly FLIPPED RED. Of those, 22…\n",
      "\n",
      "\n",
      "RT @crimsonfaith88: 🛑Beto skates across the Stage on his skateboard. Hoping to show his “Cool Guy” side.  Cruz still leads in polling.Dont…\n",
      "\n",
      "\n",
      "RT @thomaskaine5: Poll: Cruz Leads Beto O’Rourke among Hispanic Voters in Texas Senate Race https://t.co/4dGkFlLyBG\n",
      "\n",
      "\n",
      "#BetoORourke https://t.co/rLyCPCgtr7\n",
      "\n",
      "\n",
      "RT @julia_nista: Why is Beto running for Senate in every state except Texas? https://t.co/TzkiSp0r4O\n",
      "\n",
      "\n",
      "RT @atDavidHoffman: What the hell is wrong with Texas? Republicans have one of the smarmiest men ever as their candidate for Senate, Ted Cr…\n",
      "\n",
      "\n",
      "RT @MSNBC: \"Ted Cruz has insisted that we repeal every single word of the Affordable Care Act, including protections for pre-existing condi…\n",
      "\n",
      "\n",
      "RT @MSNBC: \"Ted Cruz has insisted that we repeal every single word of the Affordable Care Act, including protections for pre-existing condi…\n",
      "\n",
      "\n",
      "RT @atDavidHoffman: What the hell is wrong with Texas? Republicans have one of the smarmiest men ever as their candidate for Senate, Ted Cr…\n",
      "\n",
      "\n",
      "Wait. \n",
      "Whaaaat?!?!\n",
      "\n",
      "I guess if everything is bigger in Texas that means the mistakes would be too?\n",
      "\n",
      "Besides, Cruz i… https://t.co/I7FbtejJFd\n",
      "\n",
      "\n",
      "Please don’t forget to go 🗳 ! We must vote if we want to save our democracy Let’s do it together! #VoteBetoForTexas… https://t.co/3LGm1QPWo0\n",
      "\n",
      "\n",
      "RT @MSNBC: \"Ted Cruz has insisted that we repeal every single word of the Affordable Care Act, including protections for pre-existing condi…\n",
      "\n",
      "\n",
      "RT @thomaskaine5: Poll: Cruz Leads Beto O’Rourke among Hispanic Voters in Texas Senate Race https://t.co/4dGkFlLyBG\n",
      "\n",
      "\n",
      "Yep...Houston &amp; Austin love Beto...he is in the lead in those cities that are Blue Dots in a sea of Ruby Red. Those… https://t.co/EN6zwlXKwu\n",
      "\n",
      "\n",
      "RT @MSNBC: \"Ted Cruz has insisted that we repeal every single word of the Affordable Care Act, including protections for pre-existing condi…\n",
      "\n",
      "\n",
      "RT @atDavidHoffman: What the hell is wrong with Texas? Republicans have one of the smarmiest men ever as their candidate for Senate, Ted Cr…\n",
      "\n",
      "\n",
      "RT @crimsonfaith88: 🛑Beto skates across the Stage on his skateboard. Hoping to show his “Cool Guy” side.  Cruz still leads in polling.Dont…\n",
      "\n",
      "\n",
      "RT @atDavidHoffman: What the hell is wrong with Texas? Republicans have one of the smarmiest men ever as their candidate for Senate, Ted Cr…\n",
      "\n",
      "\n"
     ]
    }
   ],
   "source": [
    "with open('Oct14thTweetMine.json','r') as f:\n",
    "#     print(sum([1 for i in f]))\n",
    "    count = 1\n",
    "    for line in f:\n",
    "        tweet = json.loads(line)\n",
    "        if count < 40:\n",
    "            l = find_key_in_dict(['full_text'], tweet)\n",
    "            s=\"\"\n",
    "            if l == []:\n",
    "                s+=find_key_in_dict(['text'], tweet)[0]['text']\n",
    "            else:\n",
    "                s+=l[0]['full_text']\n",
    "            print(s)\n",
    "            print()\n",
    "            print()\n",
    "        count += 1\n",
    "        "
   ]
  }
 ],
 "metadata": {
  "kernelspec": {
   "display_name": "Python 3",
   "language": "python",
   "name": "python3"
  },
  "language_info": {
   "codemirror_mode": {
    "name": "ipython",
    "version": 3
   },
   "file_extension": ".py",
   "mimetype": "text/x-python",
   "name": "python",
   "nbconvert_exporter": "python",
   "pygments_lexer": "ipython3",
   "version": "3.6.5"
  }
 },
 "nbformat": 4,
 "nbformat_minor": 2
}
